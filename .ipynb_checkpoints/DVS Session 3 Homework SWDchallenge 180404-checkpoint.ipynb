{
 "cells": [
  {
   "cell_type": "code",
   "execution_count": 73,
   "metadata": {
    "ExecuteTime": {
     "end_time": "2018-04-05T13:00:42.941704Z",
     "start_time": "2018-04-05T13:00:42.913381Z"
    },
    "collapsed": true
   },
   "outputs": [],
   "source": [
    "import os\n",
    "import matplotlib.pyplot as plt\n",
    "import pandas as pd\n",
    "import numpy as np\n",
    "from scipy import stats\n",
    "import pdvega\n",
    "\n",
    "%matplotlib inline\n",
    "\n",
    "plt.rcParams[\"figure.figsize\"] = (8,5)\n",
    "\n",
    "import seaborn as sns \n",
    "sns.set(style=\"white\")\n",
    "\n",
    "import warnings\n",
    "warnings.filterwarnings('ignore')\n",
    "\n",
    "from matplotlib import rcParams\n",
    "rcParams['font.family'] = 'arial'"
   ]
  },
  {
   "cell_type": "code",
   "execution_count": 2,
   "metadata": {
    "ExecuteTime": {
     "end_time": "2018-04-05T12:05:25.653570Z",
     "start_time": "2018-04-05T12:05:25.643168Z"
    },
    "collapsed": true,
    "scrolled": false
   },
   "outputs": [],
   "source": [
    "df = pd.read_csv(\"1989-2015_cfo_gcis_by_manner_intro.csv\")\n",
    "#df = pd.Series.str.split(df)"
   ]
  },
  {
   "cell_type": "code",
   "execution_count": 3,
   "metadata": {
    "ExecuteTime": {
     "end_time": "2018-04-05T12:05:25.680293Z",
     "start_time": "2018-04-05T12:05:25.659394Z"
    }
   },
   "outputs": [
    {
     "data": {
      "text/plain": [
       "manner_of_introduction     object\n",
       "1989                       object\n",
       "1999                       object\n",
       "1991                       object\n",
       "1992                       object\n",
       "1993                       object\n",
       "1994                       object\n",
       "1995                       object\n",
       "1996                       object\n",
       "1997                       object\n",
       "1997.1                     object\n",
       "1999.1                     object\n",
       "2000                      float64\n",
       "2001                        int64\n",
       "2002                        int64\n",
       "2003                        int64\n",
       "2004                        int64\n",
       "2005                        int64\n",
       "2006                      float64\n",
       "2007                        int64\n",
       "2008                        int64\n",
       "2009                        int64\n",
       "2010                        int64\n",
       "2011                        int64\n",
       "2012                        int64\n",
       "2013                        int64\n",
       "2014                        int64\n",
       "2015                        int64\n",
       "total                       int64\n",
       "percentage                 object\n",
       "dtype: object"
      ]
     },
     "execution_count": 3,
     "metadata": {},
     "output_type": "execute_result"
    }
   ],
   "source": [
    "df.dtypes"
   ]
  },
  {
   "cell_type": "code",
   "execution_count": 4,
   "metadata": {
    "ExecuteTime": {
     "end_time": "2018-04-05T12:05:25.735072Z",
     "start_time": "2018-04-05T12:05:25.683561Z"
    },
    "scrolled": true
   },
   "outputs": [
    {
     "data": {
      "text/html": [
       "<div>\n",
       "<style>\n",
       "    .dataframe thead tr:only-child th {\n",
       "        text-align: right;\n",
       "    }\n",
       "\n",
       "    .dataframe thead th {\n",
       "        text-align: left;\n",
       "    }\n",
       "\n",
       "    .dataframe tbody tr th {\n",
       "        vertical-align: top;\n",
       "    }\n",
       "</style>\n",
       "<table border=\"1\" class=\"dataframe\">\n",
       "  <thead>\n",
       "    <tr style=\"text-align: right;\">\n",
       "      <th></th>\n",
       "      <th>manner_of_introduction</th>\n",
       "      <th>2001</th>\n",
       "      <th>2002</th>\n",
       "      <th>2003</th>\n",
       "      <th>2004</th>\n",
       "      <th>2005</th>\n",
       "      <th>2006</th>\n",
       "      <th>2007</th>\n",
       "      <th>2008</th>\n",
       "      <th>2009</th>\n",
       "      <th>2010</th>\n",
       "      <th>2011</th>\n",
       "      <th>2012</th>\n",
       "      <th>2013</th>\n",
       "      <th>2014</th>\n",
       "      <th>2015</th>\n",
       "      <th>total</th>\n",
       "      <th>percentage</th>\n",
       "    </tr>\n",
       "  </thead>\n",
       "  <tbody>\n",
       "    <tr>\n",
       "      <th>0</th>\n",
       "      <td>Personal Introduction</td>\n",
       "      <td>5883</td>\n",
       "      <td>6189</td>\n",
       "      <td>5691</td>\n",
       "      <td>5953</td>\n",
       "      <td>6374</td>\n",
       "      <td>6750.5</td>\n",
       "      <td>7705</td>\n",
       "      <td>5772</td>\n",
       "      <td>6919</td>\n",
       "      <td>6353</td>\n",
       "      <td>6368</td>\n",
       "      <td>6790</td>\n",
       "      <td>6285</td>\n",
       "      <td>6656</td>\n",
       "      <td>6575</td>\n",
       "      <td>169836</td>\n",
       "      <td>34.01%</td>\n",
       "    </tr>\n",
       "    <tr>\n",
       "      <th>1</th>\n",
       "      <td>Place of Work</td>\n",
       "      <td>4424</td>\n",
       "      <td>4638</td>\n",
       "      <td>4535</td>\n",
       "      <td>4891</td>\n",
       "      <td>5704</td>\n",
       "      <td>5771.5</td>\n",
       "      <td>5677</td>\n",
       "      <td>4154</td>\n",
       "      <td>3826</td>\n",
       "      <td>3640</td>\n",
       "      <td>3337</td>\n",
       "      <td>3536</td>\n",
       "      <td>3801</td>\n",
       "      <td>3851</td>\n",
       "      <td>3749</td>\n",
       "      <td>118533</td>\n",
       "      <td>23.73%</td>\n",
       "    </tr>\n",
       "    <tr>\n",
       "      <th>2</th>\n",
       "      <td>Penpal Referred by Relative</td>\n",
       "      <td>4646</td>\n",
       "      <td>4678</td>\n",
       "      <td>4421</td>\n",
       "      <td>4642</td>\n",
       "      <td>4661</td>\n",
       "      <td>5117.0</td>\n",
       "      <td>4535</td>\n",
       "      <td>3544</td>\n",
       "      <td>3749</td>\n",
       "      <td>3492</td>\n",
       "      <td>3493</td>\n",
       "      <td>3525</td>\n",
       "      <td>3413</td>\n",
       "      <td>3261</td>\n",
       "      <td>3043</td>\n",
       "      <td>113006</td>\n",
       "      <td>22.63%</td>\n",
       "    </tr>\n",
       "    <tr>\n",
       "      <th>3</th>\n",
       "      <td>Penpal Thru Ads/Columns/Penpal Clubs</td>\n",
       "      <td>689</td>\n",
       "      <td>635</td>\n",
       "      <td>525</td>\n",
       "      <td>438</td>\n",
       "      <td>335</td>\n",
       "      <td>491.0</td>\n",
       "      <td>270</td>\n",
       "      <td>173</td>\n",
       "      <td>146</td>\n",
       "      <td>111</td>\n",
       "      <td>93</td>\n",
       "      <td>114</td>\n",
       "      <td>89</td>\n",
       "      <td>104</td>\n",
       "      <td>86</td>\n",
       "      <td>15390</td>\n",
       "      <td>3.08%</td>\n",
       "    </tr>\n",
       "    <tr>\n",
       "      <th>4</th>\n",
       "      <td>Marriage Bureau *</td>\n",
       "      <td>31</td>\n",
       "      <td>40</td>\n",
       "      <td>34</td>\n",
       "      <td>23</td>\n",
       "      <td>24</td>\n",
       "      <td>7.0</td>\n",
       "      <td>33</td>\n",
       "      <td>20</td>\n",
       "      <td>37</td>\n",
       "      <td>38</td>\n",
       "      <td>50</td>\n",
       "      <td>58</td>\n",
       "      <td>44</td>\n",
       "      <td>44</td>\n",
       "      <td>25</td>\n",
       "      <td>1531</td>\n",
       "      <td>0.31%</td>\n",
       "    </tr>\n",
       "    <tr>\n",
       "      <th>5</th>\n",
       "      <td>Thru Internet</td>\n",
       "      <td>920</td>\n",
       "      <td>1350</td>\n",
       "      <td>1672</td>\n",
       "      <td>2574</td>\n",
       "      <td>3049</td>\n",
       "      <td>2889.0</td>\n",
       "      <td>4679</td>\n",
       "      <td>4127</td>\n",
       "      <td>5157</td>\n",
       "      <td>5228</td>\n",
       "      <td>5845</td>\n",
       "      <td>6349</td>\n",
       "      <td>6939</td>\n",
       "      <td>7729</td>\n",
       "      <td>7497</td>\n",
       "      <td>66434</td>\n",
       "      <td>13.30%</td>\n",
       "    </tr>\n",
       "    <tr>\n",
       "      <th>6</th>\n",
       "      <td>Thru Other Entities**</td>\n",
       "      <td>214</td>\n",
       "      <td>329</td>\n",
       "      <td>326</td>\n",
       "      <td>226</td>\n",
       "      <td>181</td>\n",
       "      <td>254.5</td>\n",
       "      <td>336</td>\n",
       "      <td>267</td>\n",
       "      <td>281</td>\n",
       "      <td>247</td>\n",
       "      <td>370</td>\n",
       "      <td>414</td>\n",
       "      <td>412</td>\n",
       "      <td>440</td>\n",
       "      <td>348</td>\n",
       "      <td>4810</td>\n",
       "      <td>0.96%</td>\n",
       "    </tr>\n",
       "    <tr>\n",
       "      <th>7</th>\n",
       "      <td>Not Reported / No Response</td>\n",
       "      <td>242</td>\n",
       "      <td>437</td>\n",
       "      <td>195</td>\n",
       "      <td>186</td>\n",
       "      <td>772</td>\n",
       "      <td>3623.0</td>\n",
       "      <td>692</td>\n",
       "      <td>379</td>\n",
       "      <td>495</td>\n",
       "      <td>667</td>\n",
       "      <td>678</td>\n",
       "      <td>623</td>\n",
       "      <td>338</td>\n",
       "      <td>291</td>\n",
       "      <td>279</td>\n",
       "      <td>9897</td>\n",
       "      <td>1.98%</td>\n",
       "    </tr>\n",
       "    <tr>\n",
       "      <th>8</th>\n",
       "      <td>Total</td>\n",
       "      <td>17049</td>\n",
       "      <td>18296</td>\n",
       "      <td>17399</td>\n",
       "      <td>18933</td>\n",
       "      <td>21100</td>\n",
       "      <td>24903.5</td>\n",
       "      <td>23927</td>\n",
       "      <td>18436</td>\n",
       "      <td>20610</td>\n",
       "      <td>19776</td>\n",
       "      <td>20234</td>\n",
       "      <td>21409</td>\n",
       "      <td>21321</td>\n",
       "      <td>22376</td>\n",
       "      <td>21602</td>\n",
       "      <td>499436</td>\n",
       "      <td>100%</td>\n",
       "    </tr>\n",
       "  </tbody>\n",
       "</table>\n",
       "</div>"
      ],
      "text/plain": [
       "                   manner_of_introduction   2001   2002   2003   2004   2005  \\\n",
       "0                   Personal Introduction   5883   6189   5691   5953   6374   \n",
       "1                           Place of Work   4424   4638   4535   4891   5704   \n",
       "2             Penpal Referred by Relative   4646   4678   4421   4642   4661   \n",
       "3    Penpal Thru Ads/Columns/Penpal Clubs    689    635    525    438    335   \n",
       "4                       Marriage Bureau *     31     40     34     23     24   \n",
       "5                           Thru Internet    920   1350   1672   2574   3049   \n",
       "6                  Thru Other Entities**     214    329    326    226    181   \n",
       "7              Not Reported / No Response    242    437    195    186    772   \n",
       "8                                   Total  17049  18296  17399  18933  21100   \n",
       "\n",
       "      2006   2007   2008   2009   2010   2011   2012   2013   2014   2015  \\\n",
       "0   6750.5   7705   5772   6919   6353   6368   6790   6285   6656   6575   \n",
       "1   5771.5   5677   4154   3826   3640   3337   3536   3801   3851   3749   \n",
       "2   5117.0   4535   3544   3749   3492   3493   3525   3413   3261   3043   \n",
       "3    491.0    270    173    146    111     93    114     89    104     86   \n",
       "4      7.0     33     20     37     38     50     58     44     44     25   \n",
       "5   2889.0   4679   4127   5157   5228   5845   6349   6939   7729   7497   \n",
       "6    254.5    336    267    281    247    370    414    412    440    348   \n",
       "7   3623.0    692    379    495    667    678    623    338    291    279   \n",
       "8  24903.5  23927  18436  20610  19776  20234  21409  21321  22376  21602   \n",
       "\n",
       "    total percentage  \n",
       "0  169836     34.01%  \n",
       "1  118533     23.73%  \n",
       "2  113006     22.63%  \n",
       "3   15390      3.08%  \n",
       "4    1531      0.31%  \n",
       "5   66434     13.30%  \n",
       "6    4810      0.96%  \n",
       "7    9897      1.98%  \n",
       "8  499436       100%  "
      ]
     },
     "execution_count": 4,
     "metadata": {},
     "output_type": "execute_result"
    }
   ],
   "source": [
    "df = df.replace('-', np.NaN)\n",
    "df = df.dropna(axis=1)\n",
    "df"
   ]
  },
  {
   "cell_type": "code",
   "execution_count": 5,
   "metadata": {
    "ExecuteTime": {
     "end_time": "2018-04-05T12:05:25.747904Z",
     "start_time": "2018-04-05T12:05:25.739215Z"
    }
   },
   "outputs": [
    {
     "data": {
      "text/plain": [
       "(9, 18)"
      ]
     },
     "execution_count": 5,
     "metadata": {},
     "output_type": "execute_result"
    }
   ],
   "source": [
    "df.shape"
   ]
  },
  {
   "cell_type": "code",
   "execution_count": 6,
   "metadata": {
    "ExecuteTime": {
     "end_time": "2018-04-05T12:05:25.761028Z",
     "start_time": "2018-04-05T12:05:25.751596Z"
    }
   },
   "outputs": [
    {
     "data": {
      "text/plain": [
       "0                     Personal Introduction\n",
       "1                             Place of Work\n",
       "2               Penpal Referred by Relative\n",
       "3      Penpal Thru Ads/Columns/Penpal Clubs\n",
       "4                         Marriage Bureau *\n",
       "5                             Thru Internet\n",
       "6                    Thru Other Entities** \n",
       "7                Not Reported / No Response\n",
       "8                                     Total\n",
       "Name: manner_of_introduction, dtype: object"
      ]
     },
     "execution_count": 6,
     "metadata": {},
     "output_type": "execute_result"
    }
   ],
   "source": [
    "df['manner_of_introduction']"
   ]
  },
  {
   "cell_type": "code",
   "execution_count": 7,
   "metadata": {
    "ExecuteTime": {
     "end_time": "2018-04-05T12:05:25.770415Z",
     "start_time": "2018-04-05T12:05:25.764592Z"
    }
   },
   "outputs": [
    {
     "data": {
      "text/plain": [
       "(9, 18)"
      ]
     },
     "execution_count": 7,
     "metadata": {},
     "output_type": "execute_result"
    }
   ],
   "source": [
    "df.shape"
   ]
  },
  {
   "cell_type": "code",
   "execution_count": 8,
   "metadata": {
    "ExecuteTime": {
     "end_time": "2018-04-05T12:05:25.854630Z",
     "start_time": "2018-04-05T12:05:25.773960Z"
    }
   },
   "outputs": [
    {
     "data": {
      "text/html": [
       "<div>\n",
       "<style>\n",
       "    .dataframe thead tr:only-child th {\n",
       "        text-align: right;\n",
       "    }\n",
       "\n",
       "    .dataframe thead th {\n",
       "        text-align: left;\n",
       "    }\n",
       "\n",
       "    .dataframe tbody tr th {\n",
       "        vertical-align: top;\n",
       "    }\n",
       "</style>\n",
       "<table border=\"1\" class=\"dataframe\">\n",
       "  <thead>\n",
       "    <tr style=\"text-align: right;\">\n",
       "      <th></th>\n",
       "      <th>2001</th>\n",
       "      <th>2002</th>\n",
       "      <th>2003</th>\n",
       "      <th>2004</th>\n",
       "      <th>2005</th>\n",
       "      <th>2006</th>\n",
       "      <th>2007</th>\n",
       "      <th>2008</th>\n",
       "      <th>2009</th>\n",
       "      <th>2010</th>\n",
       "      <th>2011</th>\n",
       "      <th>2012</th>\n",
       "      <th>2013</th>\n",
       "      <th>2014</th>\n",
       "      <th>2015</th>\n",
       "      <th>total</th>\n",
       "    </tr>\n",
       "  </thead>\n",
       "  <tbody>\n",
       "    <tr>\n",
       "      <th>count</th>\n",
       "      <td>9.000000</td>\n",
       "      <td>9.000000</td>\n",
       "      <td>9.000000</td>\n",
       "      <td>9.000000</td>\n",
       "      <td>9.000000</td>\n",
       "      <td>9.000000</td>\n",
       "      <td>9.000000</td>\n",
       "      <td>9.000000</td>\n",
       "      <td>9.000000</td>\n",
       "      <td>9.000000</td>\n",
       "      <td>9.000000</td>\n",
       "      <td>9.000000</td>\n",
       "      <td>9.000000</td>\n",
       "      <td>9.000000</td>\n",
       "      <td>9.000000</td>\n",
       "      <td>9.000000</td>\n",
       "    </tr>\n",
       "    <tr>\n",
       "      <th>mean</th>\n",
       "      <td>3788.666667</td>\n",
       "      <td>4065.777778</td>\n",
       "      <td>3866.444444</td>\n",
       "      <td>4207.333333</td>\n",
       "      <td>4688.888889</td>\n",
       "      <td>5534.111111</td>\n",
       "      <td>5317.111111</td>\n",
       "      <td>4096.888889</td>\n",
       "      <td>4580.000000</td>\n",
       "      <td>4394.666667</td>\n",
       "      <td>4496.444444</td>\n",
       "      <td>4757.555556</td>\n",
       "      <td>4738.000000</td>\n",
       "      <td>4972.444444</td>\n",
       "      <td>4800.444444</td>\n",
       "      <td>110985.888889</td>\n",
       "    </tr>\n",
       "    <tr>\n",
       "      <th>std</th>\n",
       "      <td>5462.092868</td>\n",
       "      <td>5811.558091</td>\n",
       "      <td>5521.506590</td>\n",
       "      <td>5989.108657</td>\n",
       "      <td>6635.748346</td>\n",
       "      <td>7676.167190</td>\n",
       "      <td>7523.103273</td>\n",
       "      <td>5801.235137</td>\n",
       "      <td>6514.327076</td>\n",
       "      <td>6234.262587</td>\n",
       "      <td>6384.673467</td>\n",
       "      <td>6769.000796</td>\n",
       "      <td>6769.307627</td>\n",
       "      <td>7141.022985</td>\n",
       "      <td>6911.995481</td>\n",
       "      <td>157723.636644</td>\n",
       "    </tr>\n",
       "    <tr>\n",
       "      <th>min</th>\n",
       "      <td>31.000000</td>\n",
       "      <td>40.000000</td>\n",
       "      <td>34.000000</td>\n",
       "      <td>23.000000</td>\n",
       "      <td>24.000000</td>\n",
       "      <td>7.000000</td>\n",
       "      <td>33.000000</td>\n",
       "      <td>20.000000</td>\n",
       "      <td>37.000000</td>\n",
       "      <td>38.000000</td>\n",
       "      <td>50.000000</td>\n",
       "      <td>58.000000</td>\n",
       "      <td>44.000000</td>\n",
       "      <td>44.000000</td>\n",
       "      <td>25.000000</td>\n",
       "      <td>1531.000000</td>\n",
       "    </tr>\n",
       "    <tr>\n",
       "      <th>25%</th>\n",
       "      <td>242.000000</td>\n",
       "      <td>437.000000</td>\n",
       "      <td>326.000000</td>\n",
       "      <td>226.000000</td>\n",
       "      <td>335.000000</td>\n",
       "      <td>491.000000</td>\n",
       "      <td>336.000000</td>\n",
       "      <td>267.000000</td>\n",
       "      <td>281.000000</td>\n",
       "      <td>247.000000</td>\n",
       "      <td>370.000000</td>\n",
       "      <td>414.000000</td>\n",
       "      <td>338.000000</td>\n",
       "      <td>291.000000</td>\n",
       "      <td>279.000000</td>\n",
       "      <td>9897.000000</td>\n",
       "    </tr>\n",
       "    <tr>\n",
       "      <th>50%</th>\n",
       "      <td>920.000000</td>\n",
       "      <td>1350.000000</td>\n",
       "      <td>1672.000000</td>\n",
       "      <td>2574.000000</td>\n",
       "      <td>3049.000000</td>\n",
       "      <td>3623.000000</td>\n",
       "      <td>4535.000000</td>\n",
       "      <td>3544.000000</td>\n",
       "      <td>3749.000000</td>\n",
       "      <td>3492.000000</td>\n",
       "      <td>3337.000000</td>\n",
       "      <td>3525.000000</td>\n",
       "      <td>3413.000000</td>\n",
       "      <td>3261.000000</td>\n",
       "      <td>3043.000000</td>\n",
       "      <td>66434.000000</td>\n",
       "    </tr>\n",
       "    <tr>\n",
       "      <th>75%</th>\n",
       "      <td>4646.000000</td>\n",
       "      <td>4678.000000</td>\n",
       "      <td>4535.000000</td>\n",
       "      <td>4891.000000</td>\n",
       "      <td>5704.000000</td>\n",
       "      <td>5771.500000</td>\n",
       "      <td>5677.000000</td>\n",
       "      <td>4154.000000</td>\n",
       "      <td>5157.000000</td>\n",
       "      <td>5228.000000</td>\n",
       "      <td>5845.000000</td>\n",
       "      <td>6349.000000</td>\n",
       "      <td>6285.000000</td>\n",
       "      <td>6656.000000</td>\n",
       "      <td>6575.000000</td>\n",
       "      <td>118533.000000</td>\n",
       "    </tr>\n",
       "    <tr>\n",
       "      <th>max</th>\n",
       "      <td>17049.000000</td>\n",
       "      <td>18296.000000</td>\n",
       "      <td>17399.000000</td>\n",
       "      <td>18933.000000</td>\n",
       "      <td>21100.000000</td>\n",
       "      <td>24903.500000</td>\n",
       "      <td>23927.000000</td>\n",
       "      <td>18436.000000</td>\n",
       "      <td>20610.000000</td>\n",
       "      <td>19776.000000</td>\n",
       "      <td>20234.000000</td>\n",
       "      <td>21409.000000</td>\n",
       "      <td>21321.000000</td>\n",
       "      <td>22376.000000</td>\n",
       "      <td>21602.000000</td>\n",
       "      <td>499436.000000</td>\n",
       "    </tr>\n",
       "  </tbody>\n",
       "</table>\n",
       "</div>"
      ],
      "text/plain": [
       "               2001          2002          2003          2004          2005  \\\n",
       "count      9.000000      9.000000      9.000000      9.000000      9.000000   \n",
       "mean    3788.666667   4065.777778   3866.444444   4207.333333   4688.888889   \n",
       "std     5462.092868   5811.558091   5521.506590   5989.108657   6635.748346   \n",
       "min       31.000000     40.000000     34.000000     23.000000     24.000000   \n",
       "25%      242.000000    437.000000    326.000000    226.000000    335.000000   \n",
       "50%      920.000000   1350.000000   1672.000000   2574.000000   3049.000000   \n",
       "75%     4646.000000   4678.000000   4535.000000   4891.000000   5704.000000   \n",
       "max    17049.000000  18296.000000  17399.000000  18933.000000  21100.000000   \n",
       "\n",
       "               2006          2007          2008          2009          2010  \\\n",
       "count      9.000000      9.000000      9.000000      9.000000      9.000000   \n",
       "mean    5534.111111   5317.111111   4096.888889   4580.000000   4394.666667   \n",
       "std     7676.167190   7523.103273   5801.235137   6514.327076   6234.262587   \n",
       "min        7.000000     33.000000     20.000000     37.000000     38.000000   \n",
       "25%      491.000000    336.000000    267.000000    281.000000    247.000000   \n",
       "50%     3623.000000   4535.000000   3544.000000   3749.000000   3492.000000   \n",
       "75%     5771.500000   5677.000000   4154.000000   5157.000000   5228.000000   \n",
       "max    24903.500000  23927.000000  18436.000000  20610.000000  19776.000000   \n",
       "\n",
       "               2011          2012          2013          2014          2015  \\\n",
       "count      9.000000      9.000000      9.000000      9.000000      9.000000   \n",
       "mean    4496.444444   4757.555556   4738.000000   4972.444444   4800.444444   \n",
       "std     6384.673467   6769.000796   6769.307627   7141.022985   6911.995481   \n",
       "min       50.000000     58.000000     44.000000     44.000000     25.000000   \n",
       "25%      370.000000    414.000000    338.000000    291.000000    279.000000   \n",
       "50%     3337.000000   3525.000000   3413.000000   3261.000000   3043.000000   \n",
       "75%     5845.000000   6349.000000   6285.000000   6656.000000   6575.000000   \n",
       "max    20234.000000  21409.000000  21321.000000  22376.000000  21602.000000   \n",
       "\n",
       "               total  \n",
       "count       9.000000  \n",
       "mean   110985.888889  \n",
       "std    157723.636644  \n",
       "min      1531.000000  \n",
       "25%      9897.000000  \n",
       "50%     66434.000000  \n",
       "75%    118533.000000  \n",
       "max    499436.000000  "
      ]
     },
     "execution_count": 8,
     "metadata": {},
     "output_type": "execute_result"
    }
   ],
   "source": [
    "df.describe()"
   ]
  },
  {
   "cell_type": "code",
   "execution_count": 9,
   "metadata": {
    "ExecuteTime": {
     "end_time": "2018-04-05T12:05:25.865666Z",
     "start_time": "2018-04-05T12:05:25.857060Z"
    }
   },
   "outputs": [
    {
     "data": {
      "text/plain": [
       "manner_of_introduction     object\n",
       "2001                        int64\n",
       "2002                        int64\n",
       "2003                        int64\n",
       "2004                        int64\n",
       "2005                        int64\n",
       "2006                      float64\n",
       "2007                        int64\n",
       "2008                        int64\n",
       "2009                        int64\n",
       "2010                        int64\n",
       "2011                        int64\n",
       "2012                        int64\n",
       "2013                        int64\n",
       "2014                        int64\n",
       "2015                        int64\n",
       "total                       int64\n",
       "percentage                 object\n",
       "dtype: object"
      ]
     },
     "execution_count": 9,
     "metadata": {},
     "output_type": "execute_result"
    }
   ],
   "source": [
    "df.dtypes"
   ]
  },
  {
   "cell_type": "code",
   "execution_count": 10,
   "metadata": {
    "ExecuteTime": {
     "end_time": "2018-04-05T12:05:25.879887Z",
     "start_time": "2018-04-05T12:05:25.871318Z"
    }
   },
   "outputs": [
    {
     "data": {
      "text/plain": [
       "[2001, 2003, 2005, 2007, 2009, 2011, 2013]"
      ]
     },
     "execution_count": 10,
     "metadata": {},
     "output_type": "execute_result"
    }
   ],
   "source": [
    "x_labels = [i for i in range(2001, 2015, 2)]\n",
    "x_labels"
   ]
  },
  {
   "cell_type": "code",
   "execution_count": 11,
   "metadata": {
    "ExecuteTime": {
     "end_time": "2018-04-05T12:05:25.891150Z",
     "start_time": "2018-04-05T12:05:25.887019Z"
    }
   },
   "outputs": [],
   "source": [
    "#df.loc[0]['2001']"
   ]
  },
  {
   "cell_type": "code",
   "execution_count": 16,
   "metadata": {
    "ExecuteTime": {
     "end_time": "2018-04-05T12:06:28.139904Z",
     "start_time": "2018-04-05T12:06:28.071156Z"
    },
    "collapsed": true
   },
   "outputs": [],
   "source": [
    "i = 0\n",
    "y_personal = [df.loc[i]['2001'], df.loc[i]['2003'], df.loc[i]['2005'], \n",
    "              df.loc[i]['2007'], df.loc[i]['2009'], df.loc[i]['2011'], df.loc[i]['2013']]\n",
    "i = 1\n",
    "y_place = [df.loc[i]['2001'], df.loc[i]['2003'], df.loc[i]['2005'], \n",
    "              df.loc[i]['2007'], df.loc[i]['2009'], df.loc[i]['2011'], df.loc[i]['2013']]\n",
    "i = 2\n",
    "y_penpalrel = [df.loc[i]['2001'], df.loc[i]['2003'], df.loc[i]['2005'], \n",
    "              df.loc[i]['2007'], df.loc[i]['2009'], df.loc[i]['2011'], df.loc[i]['2013']]\n",
    "i = 3\n",
    "y_penpalads = [df.loc[i]['2001'], df.loc[i]['2003'], df.loc[i]['2005'], \n",
    "              df.loc[i]['2007'], df.loc[i]['2009'], df.loc[i]['2011'], df.loc[i]['2013']]\n",
    "i = 5\n",
    "y_internet = [df.loc[i]['2001'], df.loc[i]['2003'], df.loc[i]['2005'], \n",
    "              df.loc[i]['2007'], df.loc[i]['2009'], df.loc[i]['2011'], df.loc[i]['2013']]"
   ]
  },
  {
   "cell_type": "code",
   "execution_count": 83,
   "metadata": {
    "ExecuteTime": {
     "end_time": "2018-04-05T13:13:45.399655Z",
     "start_time": "2018-04-05T13:13:44.379207Z"
    }
   },
   "outputs": [
    {
     "data": {
      "text/plain": [
       "Text(0,-0.3,'Viz created by: Lorenzo Sta. Maria (AIM-MSDS)\\nSource: https://data.gov.ph/?q=dataset/guidance-and-counseling-information-system-gcis')"
      ]
     },
     "execution_count": 83,
     "metadata": {},
     "output_type": "execute_result"
    },
    {
     "data": {
      "image/png": "[encoded data removed]",
      "text/plain": [
       "<matplotlib.figure.Figure at 0x7fae7b120668>"
      ]
     },
     "metadata": {},
     "output_type": "display_data"
    }
   ],
   "source": [
    "fig, ax = plt.subplots()\n",
    "ax.set_xticks(x_labels)\n",
    "ax.set_xticklabels(x_labels)\n",
    "\n",
    "#fig = matplotlib.pyplot.figure(figsize=(8.0, 5.0))\n",
    "\n",
    "pushback = '#E5E7E9'\n",
    "pushback_text = '#909497'\n",
    "#'#A6ACAF'\n",
    "\n",
    "axescolor = '#909497'\n",
    "standout = '#E74C3C'\n",
    "standout_text = '#E74C3C'\n",
    "\n",
    "ax.plot(x_labels, y_personal, c=pushback)\n",
    "ax.plot(x_labels, y_place, c=pushback)\n",
    "ax.plot(x_labels, y_penpalrel, c=pushback)\n",
    "ax.plot(x_labels, y_penpalads, c=pushback)\n",
    "ax.plot(x_labels, y_internet, c=standout)\n",
    "\n",
    "ax.spines['right'].set_visible(False)\n",
    "ax.spines['top'].set_visible(False)\n",
    "ax.spines['left'].set_color(pushback)\n",
    "ax.spines['bottom'].set_color(pushback)\n",
    "\n",
    "ax.set_xlabel('Year')\n",
    "ax.set_ylabel('# of Respondents')\n",
    "\n",
    "ax.xaxis.label.set_color(axescolor)\n",
    "ax.yaxis.label.set_color(axescolor)\n",
    "\n",
    "ax.tick_params(axis='x', colors=axescolor, )\n",
    "ax.tick_params(axis='y', colors=axescolor)\n",
    "\n",
    "ax.set_title(' Modern Love: How Filipinos Met Their Non-Filipino Spouses (2001-2013)\\n', size=18, loc='left')\n",
    "\n",
    "a = 0.2\n",
    "\n",
    "ax.annotate('Personal Introduction', xy=(2013+a, y_personal[-1]), color=pushback_text)\n",
    "ax.annotate('Place of Work', xy=(2013+a, y_place[-1]), color=pushback_text)\n",
    "ax.annotate('Penpal Referred by Relative', xy=(2013+a, y_penpalrel[-1]), color=pushback_text)\n",
    "ax.annotate('Penpal Thru Ads/Columns/Penpal Clubs', xy=(2013+a, y_penpalads[-1]), color=pushback_text)\n",
    "ax.annotate('Thru Internet', xy=(2013+a, y_internet[-1]), color=standout_text)\n",
    "\n",
    "# ax.plot([2001], [ y_personal[0]], 'o', c=pushback)\n",
    "# ax.plot([2001], [ y_place[0]], 'o', c=pushback)\n",
    "# ax.plot([2001], [ y_penpalrel[0]], 'o', c=pushback)\n",
    "# ax.plot([2001], [ y_penpalads[0]], 'o', c=pushback)\n",
    "# ax.plot([2001], [ y_internet[0]], 'o', c=standout)\n",
    "\n",
    "ax.plot([2013], [ y_personal[-1]], 'o', c=pushback)\n",
    "ax.plot([2013], [ y_place[-1]], 'o', c=pushback)\n",
    "ax.plot([2013], [ y_penpalrel[-1]], 'o', c=pushback)\n",
    "ax.plot([2013], [ y_penpalads[-1]], 'o', c=pushback)\n",
    "ax.plot([2013], [ y_internet[-1]], 'o', c=standout)\n",
    "\n",
    "\n",
    "ax.text(0, -0.3, \"Viz created by: Lorenzo Sta. Maria (AIM-MSDS)\\nSource: https://data.gov.ph/?q=dataset/guidance-and-counseling-information-system-gcis\", size=8, ha=\"left\", transform=ax.transAxes)\n",
    "#ax.text(0, -0.2, \" Viz created by: Lorenzo Sta. Maria (AIM-MSDS) | Source: https://data.gov.ph/sites/default/files/1989-2015_cfo_gcis_by_manner_intro.csv\", size=8, ha=\"left\", transform=ax.transAxes)\n",
    "\n",
    "#plt.savefig('dvs_challenge.png', dpi=300)"
   ]
  },
  {
   "cell_type": "code",
   "execution_count": null,
   "metadata": {
    "collapsed": true
   },
   "outputs": [],
   "source": []
  }
 ],
 "metadata": {
  "kernelspec": {
   "display_name": "Python 3",
   "language": "python",
   "name": "python3"
  },
  "language_info": {
   "codemirror_mode": {
    "name": "ipython",
    "version": 3
   },
   "file_extension": ".py",
   "mimetype": "text/x-python",
   "name": "python",
   "nbconvert_exporter": "python",
   "pygments_lexer": "ipython3",
   "version": "3.6.3"
  }
 },
 "nbformat": 4,
 "nbformat_minor": 2
}
